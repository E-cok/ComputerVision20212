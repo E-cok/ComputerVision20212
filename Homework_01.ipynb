{
 "cells": [
  {
   "cell_type": "code",
   "execution_count": 29,
   "id": "cordless-theme",
   "metadata": {},
   "outputs": [],
   "source": [
    "import cv2\n",
    "import numpy as np"
   ]
  },
  {
   "cell_type": "code",
   "execution_count": 30,
   "id": "alpha-lyric",
   "metadata": {},
   "outputs": [],
   "source": [
    "def nothing(x):\n",
    "    pass"
   ]
  },
  {
   "cell_type": "code",
   "execution_count": 31,
   "id": "described-guard",
   "metadata": {},
   "outputs": [],
   "source": [
    "drawing = False\n",
    "ix, iy = -1, -1\n",
    "\n",
    "# Mouse callback function\n",
    "def draw_rectangle(event, x, y, flags, param):\n",
    "    global ix, iy, drawing, img\n",
    "    \n",
    "    text = \"Mouse position (\" + str(ix) + \",\" + str(iy) + \") - (\" + str(x) + \",\" + str(y) + \")\"\n",
    "    \n",
    "    if event == cv2.EVENT_LBUTTONDOWN:\n",
    "        drawing = True\n",
    "        ix, iy = x, y\n",
    "    elif event == cv2.EVENT_MOUSEMOVE:\n",
    "        if drawing == True:\n",
    "            img = cv2.imread('forest.jpg')\n",
    "            cv2.rectangle(img, (ix, iy), (x, y), (0, 0, 255), -1)\n",
    "                \n",
    "    elif event == cv2.EVENT_LBUTTONUP:\n",
    "        drawing = False\n",
    "        cv2.rectangle(img, (ix, iy), (x, y), (0, 0, 255), -1)\n",
    "        cv2.putText(img, text, (10, 55), cv2.FONT_HERSHEY_SIMPLEX, 2, (255, 255, 255), 0, cv2.LINE_AA)"
   ]
  },
  {
   "cell_type": "code",
   "execution_count": 32,
   "id": "electric-latitude",
   "metadata": {},
   "outputs": [],
   "source": [
    "# Create a image, a window\n",
    "img = cv2.imread('forest.jpg')\n",
    "cv2.namedWindow('Homework_01')"
   ]
  },
  {
   "cell_type": "code",
   "execution_count": 33,
   "id": "affecting-gender",
   "metadata": {},
   "outputs": [],
   "source": [
    "# Create trackbar for gray level change\n",
    "cv2.createTrackbar('value', 'Homework_01', 0, 255, nothing)"
   ]
  },
  {
   "cell_type": "code",
   "execution_count": 34,
   "id": "coupled-insert",
   "metadata": {},
   "outputs": [],
   "source": [
    "# Mouse event callback\n",
    "cv2.setMouseCallback('Homework_01', draw_rectangle)"
   ]
  },
  {
   "cell_type": "code",
   "execution_count": 35,
   "id": "amber-humidity",
   "metadata": {},
   "outputs": [
    {
     "data": {
      "text/plain": [
       "-1"
      ]
     },
     "execution_count": 35,
     "metadata": {},
     "output_type": "execute_result"
    }
   ],
   "source": [
    "while(1):\n",
    "    cv2.imshow('Homework_01', img)\n",
    "    k = cv2.waitKey(1) & 0xFF\n",
    "    if k == 27:\n",
    "        break\n",
    "        \n",
    "cv2.destroyAllWindows()\n",
    "cv2.waitKey(1)"
   ]
  },
  {
   "cell_type": "code",
   "execution_count": null,
   "id": "musical-owner",
   "metadata": {},
   "outputs": [],
   "source": []
  }
 ],
 "metadata": {
  "kernelspec": {
   "display_name": "Python 3",
   "language": "python",
   "name": "python3"
  },
  "language_info": {
   "codemirror_mode": {
    "name": "ipython",
    "version": 3
   },
   "file_extension": ".py",
   "mimetype": "text/x-python",
   "name": "python",
   "nbconvert_exporter": "python",
   "pygments_lexer": "ipython3",
   "version": "3.8.8"
  }
 },
 "nbformat": 4,
 "nbformat_minor": 5
}
