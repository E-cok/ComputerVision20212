{
 "cells": [
  {
   "cell_type": "markdown",
   "id": "designed-facing",
   "metadata": {},
   "source": [
    "# For Loops 1 "
   ]
  },
  {
   "cell_type": "code",
   "execution_count": null,
   "id": "geological-syntax",
   "metadata": {},
   "outputs": [],
   "source": [
    "for <item> in <collection>:\n",
    "    <statements>"
   ]
  },
  {
   "cell_type": "code",
   "execution_count": null,
   "id": "exterior-ideal",
   "metadata": {},
   "outputs": [],
   "source": [
    "for someChar in \"Hello World\":\n",
    "    print someChar"
   ]
  },
  {
   "cell_type": "markdown",
   "id": "signal-participation",
   "metadata": {},
   "source": [
    "# For Loops 2 "
   ]
  },
  {
   "cell_type": "code",
   "execution_count": null,
   "id": "japanese-stylus",
   "metadata": {},
   "outputs": [],
   "source": [
    "for (x, y) in [(a,1), (b,2), (c,3), (d,4)]:\n",
    "    print x"
   ]
  },
  {
   "cell_type": "markdown",
   "id": "cleared-prairie",
   "metadata": {},
   "source": [
    "# For loops and the range() function"
   ]
  },
  {
   "cell_type": "code",
   "execution_count": null,
   "id": "parliamentary-keyboard",
   "metadata": {},
   "outputs": [],
   "source": [
    "range(5) returns [0,1,2,3,4]\n",
    "ex)\n",
    "for x in range(5):\n",
    "    print x"
   ]
  },
  {
   "cell_type": "markdown",
   "id": "injured-lunch",
   "metadata": {},
   "source": [
    "# Abuse of the range() function "
   ]
  },
  {
   "cell_type": "code",
   "execution_count": null,
   "id": "cheap-legend",
   "metadata": {},
   "outputs": [],
   "source": [
    "Avoid:\n",
    "    for i in range(len(mylist)):\n",
    "        print i, mylist[i]\n",
    "        \n",
    "Instead:\n",
    "    for (i, item) in enumerate(mylist):\n",
    "        print i, item"
   ]
  }
 ],
 "metadata": {
  "kernelspec": {
   "display_name": "Python 3",
   "language": "python",
   "name": "python3"
  },
  "language_info": {
   "codemirror_mode": {
    "name": "ipython",
    "version": 3
   },
   "file_extension": ".py",
   "mimetype": "text/x-python",
   "name": "python",
   "nbconvert_exporter": "python",
   "pygments_lexer": "ipython3",
   "version": "3.8.8"
  }
 },
 "nbformat": 4,
 "nbformat_minor": 5
}
