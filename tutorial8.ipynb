{
 "cells": [
  {
   "cell_type": "markdown",
   "id": "recognized-message",
   "metadata": {},
   "source": [
    "# Defining Functions "
   ]
  },
  {
   "cell_type": "code",
   "execution_count": null,
   "id": "intense-murray",
   "metadata": {},
   "outputs": [],
   "source": [
    "def get_final_answer(filename):\n",
    "    \"\"\"Documentation String\"\"\"\n",
    "    line1\n",
    "    line2\n",
    "    return total_counter\n",
    "..."
   ]
  },
  {
   "cell_type": "markdown",
   "id": "correct-complaint",
   "metadata": {},
   "source": [
    "# Calling a Function"
   ]
  },
  {
   "cell_type": "code",
   "execution_count": 1,
   "id": "related-imagination",
   "metadata": {},
   "outputs": [],
   "source": [
    "def myfun(x, y):\n",
    "    return x * y"
   ]
  },
  {
   "cell_type": "code",
   "execution_count": 2,
   "id": "affected-pacific",
   "metadata": {},
   "outputs": [
    {
     "data": {
      "text/plain": [
       "12"
      ]
     },
     "execution_count": 2,
     "metadata": {},
     "output_type": "execute_result"
    }
   ],
   "source": [
    "myfun(3, 4)"
   ]
  },
  {
   "cell_type": "markdown",
   "id": "abroad-virgin",
   "metadata": {},
   "source": [
    "# Functions are first-class objects in Python "
   ]
  },
  {
   "cell_type": "code",
   "execution_count": 3,
   "id": "prescribed-career",
   "metadata": {},
   "outputs": [],
   "source": [
    "def myfun(x):\n",
    "    return x * 3"
   ]
  },
  {
   "cell_type": "code",
   "execution_count": 4,
   "id": "vital-wayne",
   "metadata": {},
   "outputs": [],
   "source": [
    "def apply(q, x):\n",
    "    return q(x)"
   ]
  },
  {
   "cell_type": "code",
   "execution_count": 5,
   "id": "disciplinary-packing",
   "metadata": {},
   "outputs": [
    {
     "data": {
      "text/plain": [
       "21"
      ]
     },
     "execution_count": 5,
     "metadata": {},
     "output_type": "execute_result"
    }
   ],
   "source": [
    "apply(myfun, 7)"
   ]
  },
  {
   "cell_type": "markdown",
   "id": "ranging-preserve",
   "metadata": {},
   "source": [
    "# Lambda Notation "
   ]
  },
  {
   "cell_type": "code",
   "execution_count": 6,
   "id": "about-struggle",
   "metadata": {},
   "outputs": [
    {
     "data": {
      "text/plain": [
       "28"
      ]
     },
     "execution_count": 6,
     "metadata": {},
     "output_type": "execute_result"
    }
   ],
   "source": [
    "apply(lambda z: z * 4, 7)"
   ]
  },
  {
   "cell_type": "markdown",
   "id": "incorporate-toner",
   "metadata": {},
   "source": [
    "# Default Values for Arguments "
   ]
  },
  {
   "cell_type": "code",
   "execution_count": 7,
   "id": "relative-worst",
   "metadata": {},
   "outputs": [],
   "source": [
    "def myfun(b, c = 3, d = \"Hello\"):\n",
    "    return b + c"
   ]
  },
  {
   "cell_type": "code",
   "execution_count": 8,
   "id": "meaningful-richmond",
   "metadata": {},
   "outputs": [
    {
     "data": {
      "text/plain": [
       "8"
      ]
     },
     "execution_count": 8,
     "metadata": {},
     "output_type": "execute_result"
    }
   ],
   "source": [
    "myfun(5, 3, \"hello\")"
   ]
  },
  {
   "cell_type": "code",
   "execution_count": 9,
   "id": "functional-nigeria",
   "metadata": {},
   "outputs": [
    {
     "data": {
      "text/plain": [
       "8"
      ]
     },
     "execution_count": 9,
     "metadata": {},
     "output_type": "execute_result"
    }
   ],
   "source": [
    "myfun(5, 3)"
   ]
  },
  {
   "cell_type": "code",
   "execution_count": 10,
   "id": "marked-negotiation",
   "metadata": {},
   "outputs": [
    {
     "data": {
      "text/plain": [
       "8"
      ]
     },
     "execution_count": 10,
     "metadata": {},
     "output_type": "execute_result"
    }
   ],
   "source": [
    "myfun(5)"
   ]
  },
  {
   "cell_type": "markdown",
   "id": "attached-injection",
   "metadata": {},
   "source": [
    "# Keyword Arguments "
   ]
  },
  {
   "cell_type": "code",
   "execution_count": 11,
   "id": "nominated-roberts",
   "metadata": {},
   "outputs": [],
   "source": [
    "def myfun(a, b, c):\n",
    "    return a-b"
   ]
  },
  {
   "cell_type": "code",
   "execution_count": 12,
   "id": "described-variety",
   "metadata": {},
   "outputs": [
    {
     "data": {
      "text/plain": [
       "1"
      ]
     },
     "execution_count": 12,
     "metadata": {},
     "output_type": "execute_result"
    }
   ],
   "source": [
    "myfun(2, 1, 43)"
   ]
  },
  {
   "cell_type": "code",
   "execution_count": 13,
   "id": "determined-question",
   "metadata": {},
   "outputs": [
    {
     "data": {
      "text/plain": [
       "1"
      ]
     },
     "execution_count": 13,
     "metadata": {},
     "output_type": "execute_result"
    }
   ],
   "source": [
    "myfun(c = 43, b = 1, a = 2)"
   ]
  },
  {
   "cell_type": "code",
   "execution_count": 14,
   "id": "worthy-inside",
   "metadata": {},
   "outputs": [
    {
     "data": {
      "text/plain": [
       "1"
      ]
     },
     "execution_count": 14,
     "metadata": {},
     "output_type": "execute_result"
    }
   ],
   "source": [
    "myfun(2, c = 43, b = 1)"
   ]
  },
  {
   "cell_type": "markdown",
   "id": "jewish-telling",
   "metadata": {},
   "source": [
    "# Inheritance\n",
    "Subclasses"
   ]
  },
  {
   "cell_type": "code",
   "execution_count": null,
   "id": "varied-lodging",
   "metadata": {},
   "outputs": [],
   "source": [
    "class ai_student(student):"
   ]
  },
  {
   "cell_type": "code",
   "execution_count": null,
   "id": "terminal-throat",
   "metadata": {},
   "outputs": [],
   "source": []
  }
 ],
 "metadata": {
  "kernelspec": {
   "display_name": "Python 3",
   "language": "python",
   "name": "python3"
  },
  "language_info": {
   "codemirror_mode": {
    "name": "ipython",
    "version": 3
   },
   "file_extension": ".py",
   "mimetype": "text/x-python",
   "name": "python",
   "nbconvert_exporter": "python",
   "pygments_lexer": "ipython3",
   "version": "3.8.8"
  }
 },
 "nbformat": 4,
 "nbformat_minor": 5
}
