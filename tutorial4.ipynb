{
 "cells": [
  {
   "cell_type": "code",
   "execution_count": null,
   "id": "close-scheduling",
   "metadata": {},
   "outputs": [],
   "source": [
    "X == Y   # Xand Y have same value (like Java equals moethod)\n",
    "X is Y :  # X and Y refer to the exact same object (like Java ==)\n",
    "    \n",
    "True if a is True and b is True :  a and b\n",
    "True if a is True or b is True :  a or b\n",
    "True if a is False :  not a\n",
    "    \n",
    "    \n",
    "x = true_value if condition else false_value\n",
    "\n",
    "lazy evaluation:\n",
    "    First, condition is evaluated\n",
    "    If True, true_value is evaluated and returned\n",
    "    If False, false_value is evaluated and returned"
   ]
  }
 ],
 "metadata": {
  "kernelspec": {
   "display_name": "Python 3",
   "language": "python",
   "name": "python3"
  },
  "language_info": {
   "codemirror_mode": {
    "name": "ipython",
    "version": 3
   },
   "file_extension": ".py",
   "mimetype": "text/x-python",
   "name": "python",
   "nbconvert_exporter": "python",
   "pygments_lexer": "ipython3",
   "version": "3.8.8"
  }
 },
 "nbformat": 4,
 "nbformat_minor": 5
}
